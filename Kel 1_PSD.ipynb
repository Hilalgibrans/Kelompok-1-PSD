{
  "nbformat": 4,
  "nbformat_minor": 0,
  "metadata": {
    "colab": {
      "provenance": []
    },
    "kernelspec": {
      "name": "python3",
      "display_name": "Python 3"
    },
    "language_info": {
      "name": "python"
    }
  },
  "cells": [
    {
      "cell_type": "markdown",
      "source": [
        "# TUGAS\n",
        "## Pengenalan Array dengan Numpy\n",
        "\n",
        "Kelompok :\n",
        "\n",
        "1.HILAL GIBRAN\n",
        "\n",
        "2.MOHAMMAD RAYHAN AKBAR PRATAMA\n",
        "\n",
        "3.NAKAMURA SILITONGA\n",
        "\n",
        "4.PANDU PRASETIYO AJI\n",
        "\n",
        "5 WAHYU ILLAHI RAWI"
      ],
      "metadata": {
        "id": "rTF4lx70S4q_"
      }
    },
    {
      "cell_type": "code",
      "source": [
        "import numpy as np\n",
        "\n",
        "# Membuat matriks dengan tipe data integer 64\n",
        "arr = np.array([[1, 2, 3], [5, 6, 7]], dtype=np.int64)\n",
        "\n",
        "# Mencetak matriks\n",
        "print(\"arr:\")\n",
        "print(arr)\n",
        "\n",
        "# Mencetak shape dari matriks\n",
        "print(\"\\nShape arr:\")\n",
        "print(arr.shape)\n",
        "\n",
        "# Mencetak tipe data dari matriks\n",
        "print(\"\\nTipe data arr:\")\n",
        "print(arr.dtype)"
      ],
      "metadata": {
        "colab": {
          "base_uri": "https://localhost:8080/"
        },
        "id": "SmwU-7FJSsBn",
        "outputId": "d74f174b-5415-4f78-ea6e-5566e248dfbb"
      },
      "execution_count": 2,
      "outputs": [
        {
          "output_type": "stream",
          "name": "stdout",
          "text": [
            "arr:\n",
            "[[1 2 3]\n",
            " [5 6 7]]\n",
            "\n",
            "Shape arr:\n",
            "(2, 3)\n",
            "\n",
            "Tipe data arr:\n",
            "int64\n"
          ]
        }
      ]
    },
    {
      "cell_type": "code",
      "source": [
        "import numpy as np\n",
        "\n",
        "# Membuat matriks random dengan shape 2x3 dan tipe data integer 64\n",
        "arr_rdm = np.random.randint(low=-9223372036854775808, high=9223372036854775807,\n",
        "                            size=(2, 3), dtype=np.int64)\n",
        "\n",
        "# Mencetak matriks\n",
        "print(\"arr_rdm:\")\n",
        "print(arr_rdm)\n",
        "\n",
        "# Mencetak shape dari matriks\n",
        "print(\"\\nShape arr_rdm:\")\n",
        "print(arr_rdm.shape)\n",
        "\n",
        "# Mencetak tipe data dari matriks\n",
        "print(\"\\nTipe data arr_rdm:\")\n",
        "print(arr_rdm.dtype)\n"
      ],
      "metadata": {
        "colab": {
          "base_uri": "https://localhost:8080/"
        },
        "id": "Ms1ZSWUOTFIc",
        "outputId": "448b07e2-24a5-4df1-f385-72edd0a475e2"
      },
      "execution_count": 3,
      "outputs": [
        {
          "output_type": "stream",
          "name": "stdout",
          "text": [
            "arr_rdm:\n",
            "[[ 1751574409278281185   327464836484632289 -3828290849938505920]\n",
            " [   59392940535002546 -6033715436656571906   559697351709368906]]\n",
            "\n",
            "Shape arr_rdm:\n",
            "(2, 3)\n",
            "\n",
            "Tipe data arr_rdm:\n",
            "int64\n"
          ]
        }
      ]
    },
    {
      "cell_type": "markdown",
      "source": [
        "# Aritmatika Dasar dengan Numpy"
      ],
      "metadata": {
        "id": "dTCK3F-4TQPq"
      }
    },
    {
      "cell_type": "code",
      "source": [
        "import numpy as np\n",
        "\n",
        "# Membuat matriks arr dan arr_rdm\n",
        "arr = np.array([[1, 2, 3], [5, 6, 7]], dtype=np.int64)\n",
        "arr_rdm = np.random.randint(low=-9223372036854775808, high=9223372036854775807,\n",
        "                            size=(2, 3), dtype=np.int64)\n",
        "\n",
        "# Operasi penjumlahan arr dan arr_rdm\n",
        "sum_arr = np.add(arr, arr_rdm)\n",
        "print(\"Hasil penjumlahan arr dan arr_rdm:\")\n",
        "print(sum_arr)\n",
        "\n",
        "# Operasi pengurangan arr dan arr_rdm\n",
        "sub_arr = np.subtract(arr, arr_rdm)\n",
        "print(\"\\nHasil pengurangan arr dan arr_rdm:\")\n",
        "print(sub_arr)\n",
        "\n",
        "# Operasi perpangkatan dua arr_rdm\n",
        "pow_arr_rdm = np.power(arr_rdm, 2)\n",
        "print(\"\\nHasil perpangkatan dua arr_rdm:\")\n",
        "print(pow_arr_rdm)\n",
        "\n",
        "# Operasi perkalian elemen arr dan arr_rdm\n",
        "mul_arr = np.multiply(arr, arr_rdm)\n",
        "print(\"\\nHasil perkalian elemen arr dan arr_rdm:\")\n",
        "print(mul_arr)"
      ],
      "metadata": {
        "colab": {
          "base_uri": "https://localhost:8080/"
        },
        "id": "hNb38v_fTXBg",
        "outputId": "e6edac94-7662-4404-ab82-96966102ba41"
      },
      "execution_count": 4,
      "outputs": [
        {
          "output_type": "stream",
          "name": "stdout",
          "text": [
            "Hasil penjumlahan arr dan arr_rdm:\n",
            "[[ 6135079311756589839  -964473627738574295 -5503066877155288255]\n",
            " [ 6617654136846830207 -7960931899442135976  9081485275157638347]]\n",
            "\n",
            "Hasil pengurangan arr dan arr_rdm:\n",
            "[[-6135079311756589837   964473627738574299  5503066877155288261]\n",
            " [-6617654136846830197  7960931899442135988 -9081485275157638333]]\n",
            "\n",
            "Hasil perpangkatan dua arr_rdm:\n",
            "[[-6710374534725077820   132353668820091377 -4220154533524593916]\n",
            " [ 5546914207706038820 -6928528724117583292 -5500769063971588592]]\n",
            "\n",
            "Hasil perkalian elemen arr dan arr_rdm:\n",
            "[[ 6135079311756589838 -1928947255477148594  1937543442243686842]\n",
            " [-3805217463184952222  7574640824475838956  8230164704974813532]]\n"
          ]
        }
      ]
    },
    {
      "cell_type": "code",
      "source": [
        "import numpy as np\n",
        "arr = np.array([[1, 2, 3], [5, 6, 7]], dtype=np.int64)\n",
        "# Nilai rata-rata arr\n",
        "mean_arr = np.mean(arr)\n",
        "print(\"\\nNilai rata-rata matriks arr:\")\n",
        "print(mean_arr)\n",
        "\n",
        "\n",
        "# Nilai rata-rata per baris matriks arr\n",
        "mean_row_arr = np.mean(arr, axis=1)\n",
        "print(\"\\nNilai rata-rata per baris matriks arr:\")\n",
        "print(mean_row_arr)\n",
        "\n",
        "# Total nilai seluruh elemen matriks arr\n",
        "sum_total_arr = np.sum(arr)\n",
        "print(\"\\nTotal nilai seluruh elemen matriks arr:\")\n",
        "print(sum_total_arr)\n",
        "\n",
        "# Nilai maksimal per kolom matriks arr\n",
        "max_col_arr = np.max(arr, axis=0)\n",
        "print(\"\\nNilai maksimal per kolom matriks arr:\")\n",
        "print(max_col_arr)"
      ],
      "metadata": {
        "colab": {
          "base_uri": "https://localhost:8080/"
        },
        "id": "osGlAvN1Tcy1",
        "outputId": "bc20c83d-61c6-4984-e935-e5ec5a7213d7"
      },
      "execution_count": 5,
      "outputs": [
        {
          "output_type": "stream",
          "name": "stdout",
          "text": [
            "\n",
            "Nilai rata-rata matriks arr:\n",
            "4.0\n",
            "\n",
            "Nilai rata-rata per baris matriks arr:\n",
            "[2. 6.]\n",
            "\n",
            "Total nilai seluruh elemen matriks arr:\n",
            "24\n",
            "\n",
            "Nilai maksimal per kolom matriks arr:\n",
            "[5 6 7]\n"
          ]
        }
      ]
    },
    {
      "cell_type": "code",
      "source": [
        "import numpy as np\n",
        "\n",
        "# Membuat array arrg dengan nilai range 1-20\n",
        "arrg = np.arange(1, 21)\n",
        "print(\"Array arrg:\")\n",
        "print(arrg)\n",
        "\n",
        "# Mencetak nilai arrg index 5\n",
        "print(\"\\nNilai arrg index 5:\")\n",
        "print(arrg[5])\n",
        "\n",
        "# Mencetak nilai arrg untuk 3 elemen dari terakhir\n",
        "print(\"\\nNilai arrg untuk 3 elemen dari terakhir:\")\n",
        "print(arrg[-3:])\n",
        "\n",
        "# Mencetak nilai arrg 3 sampai 6\n",
        "print(\"\\nNilai arrg 3 sampai 6:\")\n",
        "print(arrg[3:7])  # Indeks di Python dimulai dari 0 dan slicing tidak termasuk batas akhir"
      ],
      "metadata": {
        "colab": {
          "base_uri": "https://localhost:8080/"
        },
        "id": "Ma9YwPntTiMk",
        "outputId": "291e952a-0acb-4314-c98f-ccc8957530e0"
      },
      "execution_count": 6,
      "outputs": [
        {
          "output_type": "stream",
          "name": "stdout",
          "text": [
            "Array arrg:\n",
            "[ 1  2  3  4  5  6  7  8  9 10 11 12 13 14 15 16 17 18 19 20]\n",
            "\n",
            "Nilai arrg index 5:\n",
            "6\n",
            "\n",
            "Nilai arrg untuk 3 elemen dari terakhir:\n",
            "[18 19 20]\n",
            "\n",
            "Nilai arrg 3 sampai 6:\n",
            "[4 5 6 7]\n"
          ]
        }
      ]
    },
    {
      "cell_type": "code",
      "source": [
        "import numpy as np\n",
        "\n",
        "# Membuat matriks arr\n",
        "arr = np.array([[1, 2, 3], [5, 6, 7]], dtype=np.int64)\n",
        "\n",
        "# Mencetak matriks arr\n",
        "print(\"Matriks arr:\")\n",
        "print(arr)\n",
        "\n",
        "# Mencetak slice matriks arr dengan output [[2, 3], [6, 7]]\n",
        "print(\"\\nSlice matriks arr [[2, 3], [6, 7]]:\")\n",
        "print(arr[:, 1:])\n",
        "\n",
        "# Mencetak slice matriks arr dengan output [[3], [7]]\n",
        "print(\"\\nSlice matriks arr [[3], [7]]:\")\n",
        "print(arr[:, 2:])"
      ],
      "metadata": {
        "colab": {
          "base_uri": "https://localhost:8080/"
        },
        "id": "EPuqOKy3Tmu-",
        "outputId": "7d750c0e-2d40-41e7-dbe1-5aa1138c81ae"
      },
      "execution_count": 7,
      "outputs": [
        {
          "output_type": "stream",
          "name": "stdout",
          "text": [
            "Matriks arr:\n",
            "[[1 2 3]\n",
            " [5 6 7]]\n",
            "\n",
            "Slice matriks arr [[2, 3], [6, 7]]:\n",
            "[[2 3]\n",
            " [6 7]]\n",
            "\n",
            "Slice matriks arr [[3], [7]]:\n",
            "[[3]\n",
            " [7]]\n"
          ]
        }
      ]
    },
    {
      "cell_type": "code",
      "source": [
        "import numpy as np\n",
        "\n",
        "# Membuat matriks mtx_rdm ukuran 3x4 dengan tipe data integer, isi elemennya random\n",
        "mtx_rdm = np.random.randint(low=-9223372036854775808, high=9223372036854775807,\n",
        "                            size=(3, 4), dtype=np.int64)\n",
        "\n",
        "# Mencetak shape mtx_rdm\n",
        "print(\"Shape mtx_rdm:\")\n",
        "print(mtx_rdm.shape)\n",
        "\n",
        "# Mengubah shape mtx_rdm menjadi satu dimensi\n",
        "mtx_rdm = mtx_rdm.reshape(-1)\n",
        "print(\"\\nShape mtx_rdm setelah diubah menjadi satu dimensi:\")\n",
        "print(mtx_rdm.shape)\n",
        "\n",
        "# Mengubah shape mtx_rdm menjadi 6x2\n",
        "mtx_rdm = mtx_rdm.reshape(6, 2)\n",
        "print(\"\\nShape mtx_rdm setelah diubah menjadi 6x2:\")\n",
        "print(mtx_rdm.shape)\n"
      ],
      "metadata": {
        "colab": {
          "base_uri": "https://localhost:8080/"
        },
        "id": "hKPvX-d5Txqb",
        "outputId": "9e612aa9-a444-4d62-9c26-858082ba90e3"
      },
      "execution_count": 8,
      "outputs": [
        {
          "output_type": "stream",
          "name": "stdout",
          "text": [
            "Shape mtx_rdm:\n",
            "(3, 4)\n",
            "\n",
            "Shape mtx_rdm setelah diubah menjadi satu dimensi:\n",
            "(12,)\n",
            "\n",
            "Shape mtx_rdm setelah diubah menjadi 6x2:\n",
            "(6, 2)\n"
          ]
        }
      ]
    }
  ]
}