{
  "nbformat": 4,
  "nbformat_minor": 0,
  "metadata": {
    "colab": {
      "provenance": []
    },
    "kernelspec": {
      "name": "python3",
      "display_name": "Python 3"
    },
    "language_info": {
      "name": "python"
    }
  },
  "cells": [
    {
      "cell_type": "markdown",
      "source": [
        "#TUGAS\n",
        "\n",
        "#PENGENALAN DASAR LIBRARY\n",
        "\n",
        "#KELOMPOK 1\n",
        "\n",
        "KELOMPOK :\n",
        "\n",
        "#HILAL GIBRAN\n",
        "\n",
        "#MOHAMMAD RAYHAN AKBAR\n",
        "\n",
        "#PANDU PRASETIYO AJI\n",
        "\n",
        "#NAKAMURA SILITONGA\n",
        "\n",
        "#WAHYU ILLAHI RAWI"
      ],
      "metadata": {
        "id": "SJQv7jztyBX8"
      }
    },
    {
      "cell_type": "code",
      "execution_count": 1,
      "metadata": {
        "id": "g7FLLeTRvKsJ"
      },
      "outputs": [],
      "source": [
        "# import libraries\n",
        "import numpy as np\n",
        "import pandas as pd"
      ]
    },
    {
      "cell_type": "code",
      "source": [
        "# Membuat array \"df\" satu dimensi dengan Pandas\n",
        "# nilainya [1,3,4,5]\n",
        "df = pd.Series([1, 3, 4, 5])\n",
        "print(\"Array satu dimensi:\\n\", df)\n",
        "\n",
        "# Membuat dataframe dengan nilai berikut:\n",
        "# 'Nama' : ['Andi', 'Budi', 'Dodo', 'Ema', 'Kari']\n",
        "# 'Nilai' : [80, 20, 90, 40, 55]\n",
        "# 'Kelas' : ['3B', '3A', '3B', '3B', '3A']\n",
        "data = {\n",
        "    'Nama' : ['Andi', 'Budi', 'Dodo', 'Ema', 'Kari'],\n",
        "    'Nilai' : [80, 20, 90, 40, 55],\n",
        "    'Kelas' : ['3B', '3A', '3B', '3B', '3A']\n",
        "}\n",
        "df = pd.DataFrame(data)\n",
        "\n",
        "\n",
        "# Print seluruh baris pada kolom Nama\n",
        "print(\"\\nKolom Nama:\\n\", df['Nama'])\n",
        "\n",
        "# Sortir data berdasarkan Nilai tertinggi ke Nilai terendah\n",
        "df = df.sort_values('Nilai', ascending=False)\n",
        "print(\"\\nDataframe setelah diurutkan:\\n\", df)"
      ],
      "metadata": {
        "colab": {
          "base_uri": "https://localhost:8080/"
        },
        "id": "8vW6bZT-w2Av",
        "outputId": "8f07d055-d068-44e7-bff7-e7ba92d70ace"
      },
      "execution_count": 2,
      "outputs": [
        {
          "output_type": "stream",
          "name": "stdout",
          "text": [
            "Array satu dimensi:\n",
            " 0    1\n",
            "1    3\n",
            "2    4\n",
            "3    5\n",
            "dtype: int64\n",
            "\n",
            "Kolom Nama:\n",
            " 0    Andi\n",
            "1    Budi\n",
            "2    Dodo\n",
            "3     Ema\n",
            "4    Kari\n",
            "Name: Nama, dtype: object\n",
            "\n",
            "Dataframe setelah diurutkan:\n",
            "    Nama  Nilai Kelas\n",
            "2  Dodo     90    3B\n",
            "0  Andi     80    3B\n",
            "4  Kari     55    3A\n",
            "3   Ema     40    3B\n",
            "1  Budi     20    3A\n"
          ]
        }
      ]
    },
    {
      "cell_type": "code",
      "source": [
        "from google.colab import drive\n",
        "import pandas as pd\n",
        "\n",
        "drive.mount('/content/drive/')"
      ],
      "metadata": {
        "colab": {
          "base_uri": "https://localhost:8080/"
        },
        "id": "WCbARvfEw4Ry",
        "outputId": "a636815b-82a5-4f18-eed3-78f0ddd0352b"
      },
      "execution_count": 3,
      "outputs": [
        {
          "output_type": "stream",
          "name": "stdout",
          "text": [
            "Mounted at /content/drive/\n"
          ]
        }
      ]
    },
    {
      "cell_type": "code",
      "source": [
        "# print 5 baris teratas\n",
        "# print 5 baris terakhi\n",
        "\n",
        "data = pd.read_csv('/content/drive/MyDrive/Colab Notebooks/ds_salaries (1).csv')\n",
        "print(data.head(5))\n",
        "print(data.tail(5))"
      ],
      "metadata": {
        "colab": {
          "base_uri": "https://localhost:8080/"
        },
        "id": "FwKneTUbxBnf",
        "outputId": "7d758c79-fbc4-4a82-d209-6bfff22d372f"
      },
      "execution_count": 4,
      "outputs": [
        {
          "output_type": "stream",
          "name": "stdout",
          "text": [
            "   Unnamed: 0  work_year experience_level employment_type  \\\n",
            "0           0       2020               MI              FT   \n",
            "1           1       2020               SE              FT   \n",
            "2           2       2020               SE              FT   \n",
            "3           3       2020               MI              FT   \n",
            "4           4       2020               SE              FT   \n",
            "\n",
            "                    job_title  salary salary_currency  salary_in_usd  \\\n",
            "0              Data Scientist   70000             EUR          79833   \n",
            "1  Machine Learning Scientist  260000             USD         260000   \n",
            "2           Big Data Engineer   85000             GBP         109024   \n",
            "3        Product Data Analyst   20000             USD          20000   \n",
            "4   Machine Learning Engineer  150000             USD         150000   \n",
            "\n",
            "  employee_residence  remote_ratio company_location company_size  \n",
            "0                 DE             0               DE            L  \n",
            "1                 JP             0               JP            S  \n",
            "2                 GB            50               GB            M  \n",
            "3                 HN             0               HN            S  \n",
            "4                 US            50               US            L  \n",
            "     Unnamed: 0  work_year experience_level employment_type      job_title  \\\n",
            "602         602       2022               SE              FT  Data Engineer   \n",
            "603         603       2022               SE              FT  Data Engineer   \n",
            "604         604       2022               SE              FT   Data Analyst   \n",
            "605         605       2022               SE              FT   Data Analyst   \n",
            "606         606       2022               MI              FT   AI Scientist   \n",
            "\n",
            "     salary salary_currency  salary_in_usd employee_residence  remote_ratio  \\\n",
            "602  154000             USD         154000                 US           100   \n",
            "603  126000             USD         126000                 US           100   \n",
            "604  129000             USD         129000                 US             0   \n",
            "605  150000             USD         150000                 US           100   \n",
            "606  200000             USD         200000                 IN           100   \n",
            "\n",
            "    company_location company_size  \n",
            "602               US            M  \n",
            "603               US            M  \n",
            "604               US            M  \n",
            "605               US            M  \n",
            "606               US            L  \n"
          ]
        }
      ]
    },
    {
      "cell_type": "code",
      "source": [
        "print(data.columns)"
      ],
      "metadata": {
        "colab": {
          "base_uri": "https://localhost:8080/"
        },
        "id": "cRohW9M3xXHN",
        "outputId": "bd2c9c92-8669-4078-cbfb-cfe622e6a679"
      },
      "execution_count": 5,
      "outputs": [
        {
          "output_type": "stream",
          "name": "stdout",
          "text": [
            "Index(['Unnamed: 0', 'work_year', 'experience_level', 'employment_type',\n",
            "       'job_title', 'salary', 'salary_currency', 'salary_in_usd',\n",
            "       'employee_residence', 'remote_ratio', 'company_location',\n",
            "       'company_size'],\n",
            "      dtype='object')\n"
          ]
        }
      ]
    },
    {
      "cell_type": "code",
      "source": [
        "# Tampilkan data baris ke 5-10 pada\n",
        "# Tampilkan data baris ke 5-10 pada kolom job_title dan company_location\n",
        "print(data.loc[5:10, ['job_title', 'company_location']])"
      ],
      "metadata": {
        "colab": {
          "base_uri": "https://localhost:8080/"
        },
        "id": "3f2Fa4z0xa5b",
        "outputId": "9023ea72-d7b8-42c9-a486-7aa06db0ee73"
      },
      "execution_count": 6,
      "outputs": [
        {
          "output_type": "stream",
          "name": "stdout",
          "text": [
            "                job_title company_location\n",
            "5            Data Analyst               US\n",
            "6     Lead Data Scientist               US\n",
            "7          Data Scientist               HU\n",
            "8   Business Data Analyst               US\n",
            "9      Lead Data Engineer               NZ\n",
            "10         Data Scientist               FR\n"
          ]
        }
      ]
    },
    {
      "cell_type": "code",
      "source": [
        "# Hitung rata-rata salary_in_usd\n",
        "average_salary = data['salary_in_usd'].mean()\n",
        "print(\"Rata-rata salary_in_usd: \", average_salary)"
      ],
      "metadata": {
        "colab": {
          "base_uri": "https://localhost:8080/"
        },
        "id": "D7-Tf7X7xcid",
        "outputId": "64419cce-1493-4881-d335-17bba56bc0d7"
      },
      "execution_count": 7,
      "outputs": [
        {
          "output_type": "stream",
          "name": "stdout",
          "text": [
            "Rata-rata salary_in_usd:  112297.86985172982\n"
          ]
        }
      ]
    },
    {
      "cell_type": "code",
      "source": [
        "# Simpan data baris ke 5-20 ke bentuk .csv dengan nama \"sparse.csv\"\n",
        "data.iloc[5:21].to_csv('sparse.csv')"
      ],
      "metadata": {
        "id": "13703lXexhEI"
      },
      "execution_count": 8,
      "outputs": []
    }
  ]
}